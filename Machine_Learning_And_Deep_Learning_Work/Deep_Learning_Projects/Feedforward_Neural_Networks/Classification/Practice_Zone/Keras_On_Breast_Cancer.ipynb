{
 "cells": [
  {
   "cell_type": "code",
   "execution_count": 1,
   "id": "8798bd4e-5d65-497b-a7bc-4b3865cbc6d5",
   "metadata": {},
   "outputs": [],
   "source": [
    "from keras.models import Sequential\n",
    "from keras.layers import Dense ## dense layer"
   ]
  },
  {
   "cell_type": "code",
   "execution_count": 2,
   "id": "49ec2123-705e-49ce-bb63-875a6070234b",
   "metadata": {},
   "outputs": [],
   "source": [
    "## Creating the model\n",
    "model = Sequential()"
   ]
  },
  {
   "cell_type": "code",
   "execution_count": 3,
   "id": "072e9184-9eca-4640-929f-b4f92a5278aa",
   "metadata": {},
   "outputs": [],
   "source": [
    "## Setting the Artitechure ( i.e adding layers to model )\n",
    "layer1 = Dense(units=32,activation='relu',input_dim=30)\n",
    "model.add(layer1)\n",
    "layer2 = Dense(units=16,activation='relu')\n",
    "model.add(layer2)\n",
    "layer3 = Dense(units=1,activation='sigmoid')\n",
    "model.add(layer3)\n",
    "\n",
    "# By default we are using bias for all of them ..Layer one without input_dim will give error.\n"
   ]
  },
  {
   "cell_type": "code",
   "execution_count": 4,
   "id": "e3861c4f-0df2-45c4-8f55-f35528c0c0e2",
   "metadata": {},
   "outputs": [],
   "source": [
    "## Compiling >  \n",
    "model.compile(optimizer='adam',loss='binary_crossentropy',metrics=['accuracy'],)"
   ]
  },
  {
   "cell_type": "code",
   "execution_count": 6,
   "id": "cb5217b5-6eb7-4af8-988a-07200d54ef6c",
   "metadata": {},
   "outputs": [],
   "source": [
    "## Importing Datasets\n",
    "from sklearn import datasets\n",
    "cancer = datasets.load_breast_cancer()\n",
    "from sklearn.model_selection import train_test_split\n",
    "\n",
    "X_train , X_test , Y_train ,Y_test = train_test_split(cancer.data,cancer.target , test_size = 0.2 , random_state=24)"
   ]
  },
  {
   "cell_type": "code",
   "execution_count": 7,
   "id": "5205f346-fc38-4ffb-8ec8-cd33a8ed4531",
   "metadata": {},
   "outputs": [],
   "source": [
    "from sklearn.preprocessing import StandardScaler\n",
    "\n",
    "scaler = StandardScaler()\n",
    "X_train = scaler.fit_transform(X_train)\n",
    "X_test = scaler.transform(X_test)"
   ]
  },
  {
   "cell_type": "code",
   "execution_count": 8,
   "id": "5f10663d-0cc9-49bf-a60a-d9675a1d8b90",
   "metadata": {
    "scrolled": true
   },
   "outputs": [
    {
     "name": "stdout",
     "output_type": "stream",
     "text": [
      "Epoch 1/20\n",
      "10/10 [==============================] - 2s 41ms/step - loss: 0.7661 - accuracy: 0.4220 - val_loss: 0.6722 - val_accuracy: 0.5702\n",
      "Epoch 2/20\n",
      "10/10 [==============================] - 0s 10ms/step - loss: 0.6053 - accuracy: 0.6352 - val_loss: 0.5445 - val_accuracy: 0.7456\n",
      "Epoch 3/20\n",
      "10/10 [==============================] - 0s 9ms/step - loss: 0.4952 - accuracy: 0.8044 - val_loss: 0.4437 - val_accuracy: 0.8509\n",
      "Epoch 4/20\n",
      "10/10 [==============================] - 0s 10ms/step - loss: 0.4059 - accuracy: 0.8835 - val_loss: 0.3646 - val_accuracy: 0.9035\n",
      "Epoch 5/20\n",
      "10/10 [==============================] - 0s 15ms/step - loss: 0.3394 - accuracy: 0.9143 - val_loss: 0.3050 - val_accuracy: 0.9123\n",
      "Epoch 6/20\n",
      "10/10 [==============================] - 0s 9ms/step - loss: 0.2859 - accuracy: 0.9341 - val_loss: 0.2575 - val_accuracy: 0.9386\n",
      "Epoch 7/20\n",
      "10/10 [==============================] - 0s 9ms/step - loss: 0.2420 - accuracy: 0.9473 - val_loss: 0.2175 - val_accuracy: 0.9386\n",
      "Epoch 8/20\n",
      "10/10 [==============================] - 0s 8ms/step - loss: 0.2053 - accuracy: 0.9538 - val_loss: 0.1865 - val_accuracy: 0.9561\n",
      "Epoch 9/20\n",
      "10/10 [==============================] - 0s 8ms/step - loss: 0.1763 - accuracy: 0.9560 - val_loss: 0.1607 - val_accuracy: 0.9649\n",
      "Epoch 10/20\n",
      "10/10 [==============================] - 0s 9ms/step - loss: 0.1533 - accuracy: 0.9582 - val_loss: 0.1416 - val_accuracy: 0.9649\n",
      "Epoch 11/20\n",
      "10/10 [==============================] - 0s 9ms/step - loss: 0.1360 - accuracy: 0.9582 - val_loss: 0.1268 - val_accuracy: 0.9649\n",
      "Epoch 12/20\n",
      "10/10 [==============================] - 0s 8ms/step - loss: 0.1220 - accuracy: 0.9582 - val_loss: 0.1162 - val_accuracy: 0.9737\n",
      "Epoch 13/20\n",
      "10/10 [==============================] - 0s 8ms/step - loss: 0.1116 - accuracy: 0.9582 - val_loss: 0.1078 - val_accuracy: 0.9737\n",
      "Epoch 14/20\n",
      "10/10 [==============================] - 0s 8ms/step - loss: 0.1022 - accuracy: 0.9648 - val_loss: 0.1011 - val_accuracy: 0.9737\n",
      "Epoch 15/20\n",
      "10/10 [==============================] - 0s 8ms/step - loss: 0.0953 - accuracy: 0.9670 - val_loss: 0.0960 - val_accuracy: 0.9825\n",
      "Epoch 16/20\n",
      "10/10 [==============================] - 0s 8ms/step - loss: 0.0884 - accuracy: 0.9714 - val_loss: 0.0917 - val_accuracy: 0.9825\n",
      "Epoch 17/20\n",
      "10/10 [==============================] - 0s 10ms/step - loss: 0.0831 - accuracy: 0.9692 - val_loss: 0.0885 - val_accuracy: 0.9737\n",
      "Epoch 18/20\n",
      "10/10 [==============================] - 0s 11ms/step - loss: 0.0783 - accuracy: 0.9714 - val_loss: 0.0855 - val_accuracy: 0.9737\n",
      "Epoch 19/20\n",
      "10/10 [==============================] - 0s 10ms/step - loss: 0.0740 - accuracy: 0.9780 - val_loss: 0.0822 - val_accuracy: 0.9825\n",
      "Epoch 20/20\n",
      "10/10 [==============================] - 0s 11ms/step - loss: 0.0707 - accuracy: 0.9802 - val_loss: 0.0786 - val_accuracy: 0.9825\n"
     ]
    },
    {
     "data": {
      "text/plain": [
       "<keras.src.callbacks.History at 0x17637e4e460>"
      ]
     },
     "execution_count": 8,
     "metadata": {},
     "output_type": "execute_result"
    }
   ],
   "source": [
    " # Fitting ....\n",
    "model.fit(X_train,Y_train,epochs=20,batch_size=50,validation_data=(X_test,Y_test))\n"
   ]
  },
  {
   "cell_type": "code",
   "execution_count": 9,
   "id": "e88ebac1-6738-48a0-a88b-dc200485c1ee",
   "metadata": {
    "scrolled": true
   },
   "outputs": [
    {
     "name": "stdout",
     "output_type": "stream",
     "text": [
      "4/4 [==============================] - 0s 2ms/step\n",
      "4/4 [==============================] - 0s 4ms/step - loss: 0.0786 - accuracy: 0.9825\n"
     ]
    },
    {
     "data": {
      "text/plain": [
       "(array([[9.95541930e-01],\n",
       "        [9.62951958e-01],\n",
       "        [9.97621477e-01],\n",
       "        [9.99826670e-01],\n",
       "        [9.76114154e-01],\n",
       "        [2.32579671e-02],\n",
       "        [1.93854643e-03],\n",
       "        [6.93942964e-01],\n",
       "        [2.59219147e-02],\n",
       "        [9.96508479e-01],\n",
       "        [9.53286231e-01],\n",
       "        [9.61868763e-01],\n",
       "        [8.84183645e-01],\n",
       "        [1.83961838e-05],\n",
       "        [9.91664469e-01],\n",
       "        [1.28667057e-01],\n",
       "        [5.98762691e-01],\n",
       "        [9.86905158e-01],\n",
       "        [9.52727735e-01],\n",
       "        [9.99232173e-01],\n",
       "        [1.25595456e-04],\n",
       "        [9.91623104e-01],\n",
       "        [8.92193019e-01],\n",
       "        [9.79255378e-01],\n",
       "        [2.57576979e-03],\n",
       "        [8.03469121e-01],\n",
       "        [9.00291979e-01],\n",
       "        [9.93916273e-01],\n",
       "        [1.42180442e-03],\n",
       "        [9.93037045e-01],\n",
       "        [1.57241520e-05],\n",
       "        [2.04519602e-04],\n",
       "        [1.37881353e-01],\n",
       "        [1.01173413e-03],\n",
       "        [3.34572519e-07],\n",
       "        [9.89028513e-01],\n",
       "        [9.55381572e-01],\n",
       "        [9.97385502e-01],\n",
       "        [9.33602750e-01],\n",
       "        [9.71575797e-01],\n",
       "        [5.67314346e-05],\n",
       "        [9.88437295e-01],\n",
       "        [5.30451553e-06],\n",
       "        [4.32684494e-04],\n",
       "        [9.74728227e-01],\n",
       "        [9.90137041e-01],\n",
       "        [3.36524606e-01],\n",
       "        [2.13452978e-07],\n",
       "        [9.56021190e-01],\n",
       "        [9.96038735e-01],\n",
       "        [1.54837326e-04],\n",
       "        [8.95224094e-01],\n",
       "        [9.91934419e-01],\n",
       "        [8.40015113e-01],\n",
       "        [1.87360919e-19],\n",
       "        [9.99561191e-01],\n",
       "        [9.23717797e-01],\n",
       "        [9.99550104e-01],\n",
       "        [9.88768637e-01],\n",
       "        [3.36288773e-02],\n",
       "        [6.33686839e-04],\n",
       "        [6.43290477e-05],\n",
       "        [9.99471664e-01],\n",
       "        [9.59640205e-01],\n",
       "        [9.93810833e-01],\n",
       "        [9.87497628e-01],\n",
       "        [2.81166896e-04],\n",
       "        [1.02391075e-02],\n",
       "        [9.94411469e-01],\n",
       "        [9.57612157e-01],\n",
       "        [8.99581552e-01],\n",
       "        [2.77546868e-02],\n",
       "        [9.90877211e-01],\n",
       "        [1.52170804e-04],\n",
       "        [9.89394784e-01],\n",
       "        [9.98576343e-01],\n",
       "        [9.91532683e-01],\n",
       "        [8.52145970e-01],\n",
       "        [4.71800193e-03],\n",
       "        [9.60929334e-01],\n",
       "        [9.56010044e-01],\n",
       "        [9.93417859e-01],\n",
       "        [9.94698405e-01],\n",
       "        [1.66895290e-04],\n",
       "        [9.98939872e-01],\n",
       "        [6.96966163e-05],\n",
       "        [9.88739431e-01],\n",
       "        [1.29446169e-04],\n",
       "        [7.49071303e-04],\n",
       "        [9.61769879e-01],\n",
       "        [9.33251202e-01],\n",
       "        [9.97458994e-01],\n",
       "        [4.75294604e-09],\n",
       "        [9.99210238e-01],\n",
       "        [1.16296180e-01],\n",
       "        [4.43225205e-01],\n",
       "        [9.97685969e-01],\n",
       "        [9.92043257e-01],\n",
       "        [9.62301910e-01],\n",
       "        [9.86800730e-01],\n",
       "        [2.08258033e-01],\n",
       "        [1.69635773e-01],\n",
       "        [9.74403560e-01],\n",
       "        [9.60019410e-01],\n",
       "        [1.49954603e-05],\n",
       "        [5.31935811e-01],\n",
       "        [2.83264788e-04],\n",
       "        [9.02402026e-05],\n",
       "        [9.79003966e-01],\n",
       "        [9.21872973e-01],\n",
       "        [9.99299943e-01],\n",
       "        [9.06004608e-01],\n",
       "        [8.19452882e-01],\n",
       "        [1.25847228e-05]], dtype=float32),\n",
       " [0.07863551378250122, 0.9824561476707458])"
      ]
     },
     "execution_count": 9,
     "metadata": {},
     "output_type": "execute_result"
    }
   ],
   "source": [
    "## Prediction and Evaluation\n",
    "\n",
    "Y_pred = model.predict(X_test)\n",
    "score = model.evaluate(X_test,Y_test) ## the metric it is going to provide will be save as provided at time of compile \n",
    "Y_pred , score"
   ]
  },
  {
   "cell_type": "code",
   "execution_count": null,
   "id": "867f7683-4330-4700-8189-f878e4317dc4",
   "metadata": {},
   "outputs": [],
   "source": []
  }
 ],
 "metadata": {
  "kernelspec": {
   "display_name": "NeuralNetwork",
   "language": "python",
   "name": "neuralnetwork"
  },
  "language_info": {
   "codemirror_mode": {
    "name": "ipython",
    "version": 3
   },
   "file_extension": ".py",
   "mimetype": "text/x-python",
   "name": "python",
   "nbconvert_exporter": "python",
   "pygments_lexer": "ipython3",
   "version": "3.8.17"
  },
  "widgets": {
   "application/vnd.jupyter.widget-state+json": {
    "state": {},
    "version_major": 2,
    "version_minor": 0
   }
  }
 },
 "nbformat": 4,
 "nbformat_minor": 5
}
