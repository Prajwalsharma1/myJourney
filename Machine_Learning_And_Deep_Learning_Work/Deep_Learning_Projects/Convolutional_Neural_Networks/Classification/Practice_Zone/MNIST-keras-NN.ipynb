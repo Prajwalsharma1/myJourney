{
 "cells": [
  {
   "cell_type": "code",
   "execution_count": 32,
   "id": "8798bd4e-5d65-497b-a7bc-4b3865cbc6d5",
   "metadata": {},
   "outputs": [],
   "source": [
    "import keras\n",
    "import tensorflow as tf\n",
    "from keras.models import Sequential\n",
    "from keras.layers import Dense,Conv2D,MaxPool2D,Flatten ## dense layer\n",
    "from sklearn.preprocessing import OneHotEncoder\n",
    "import numpy as np"
   ]
  },
  {
   "cell_type": "code",
   "execution_count": 33,
   "id": "49ec2123-705e-49ce-bb63-875a6070234b",
   "metadata": {},
   "outputs": [],
   "source": [
    "## Creating the model\n",
    "model = Sequential()"
   ]
  },
  {
   "cell_type": "raw",
   "id": "3ac81224-5357-4363-a0ba-503e853c7f5c",
   "metadata": {},
   "source": [
    "## keeping activation as 'linear' on output layer Was creating Error ...\n",
    "## Use 'softmax' for case involving multiple classifcation\n",
    "## Use 'sigmoid' for case involving binary classifcation\n",
    "## Use 'linear' for case involving regression problem\n",
    "## Can also seerch in keras.activation for other function as well "
   ]
  },
  {
   "cell_type": "code",
   "execution_count": 34,
   "id": "072e9184-9eca-4640-929f-b4f92a5278aa",
   "metadata": {},
   "outputs": [],
   "source": [
    "## Setting the Artitechure ( i.e adding layers to model )\n",
    "layer1 = Dense(units=256,activation='relu',input_dim=784)\n",
    "model.add(layer1)\n",
    "\n",
    "layer2 = Dense(units=256,activation='relu')\n",
    "model.add(layer2)\n",
    "\n",
    "layer3 = Dense(units=10,activation='softmax')  \n",
    "model.add(layer3)\n",
    "\n",
    "# By default we are using bias for all of them ..Layer one without input_dim will give error.\n"
   ]
  },
  {
   "cell_type": "code",
   "execution_count": 35,
   "id": "e3861c4f-0df2-45c4-8f55-f35528c0c0e2",
   "metadata": {},
   "outputs": [],
   "source": [
    "## Compiling\n",
    "model.compile(optimizer=keras.optimizers.Adam(learning_rate=0.0005), loss='categorical_crossentropy', metrics=['accuracy']) \n",
    "##Method 2\n",
    "# model.compile(optimizer=keras.optimizers.Adam(learning_rate=0.005), loss=keras.losses.categorical_crossentropy, metrics=['accuracy']) "
   ]
  },
  {
   "cell_type": "code",
   "execution_count": 36,
   "id": "cb5217b5-6eb7-4af8-988a-07200d54ef6c",
   "metadata": {},
   "outputs": [
    {
     "data": {
      "text/plain": [
       "((60000, 28, 28), (60000,), (10000, 28, 28), (10000,))"
      ]
     },
     "execution_count": 36,
     "metadata": {},
     "output_type": "execute_result"
    }
   ],
   "source": [
    "mnist= keras.datasets.mnist.load_data()\n",
    "(X_train,Y_train) , (X_test,Y_test) = mnist\n",
    "\n",
    "X_train.shape ,Y_train.shape , X_test.shape,Y_test.shape"
   ]
  },
  {
   "cell_type": "code",
   "execution_count": 37,
   "id": "5205f346-fc38-4ffb-8ec8-cd33a8ed4531",
   "metadata": {},
   "outputs": [
    {
     "data": {
      "text/plain": [
       "((60000, 10), (10000, 10))"
      ]
     },
     "execution_count": 37,
     "metadata": {},
     "output_type": "execute_result"
    }
   ],
   "source": [
    "\n",
    "encoder = OneHotEncoder(sparse_output=False)\n",
    "\n",
    "Y_train_t = encoder.fit_transform(Y_train.reshape(-1,1))\n",
    "Y_test_t = encoder.transform(Y_test.reshape(-1,1))\n",
    "\n",
    "Y_train_t.shape ,Y_test_t.shape"
   ]
  },
  {
   "cell_type": "code",
   "execution_count": 38,
   "id": "48e417b1-eab3-4472-a6a9-0b2029e948b3",
   "metadata": {},
   "outputs": [
    {
     "data": {
      "text/plain": [
       "((60000, 784), (10000, 784))"
      ]
     },
     "execution_count": 38,
     "metadata": {},
     "output_type": "execute_result"
    }
   ],
   "source": [
    "X_train_t = X_train.reshape(60000,784,)\n",
    "X_test_t = X_test.reshape(10000,784,)\n",
    "\n",
    "X_train_t.shape,X_test_t.shape"
   ]
  },
  {
   "cell_type": "code",
   "execution_count": 39,
   "id": "5f10663d-0cc9-49bf-a60a-d9675a1d8b90",
   "metadata": {
    "scrolled": true
   },
   "outputs": [
    {
     "name": "stdout",
     "output_type": "stream",
     "text": [
      "Epoch 1/25\n",
      "600/600 [==============================] - 6s 8ms/step - loss: 2.9135 - accuracy: 0.8878\n",
      "Epoch 2/25\n",
      "600/600 [==============================] - 6s 10ms/step - loss: 0.5659 - accuracy: 0.9479\n",
      "Epoch 3/25\n",
      "600/600 [==============================] - 5s 8ms/step - loss: 0.3130 - accuracy: 0.9635\n",
      "Epoch 4/25\n",
      "600/600 [==============================] - 4s 7ms/step - loss: 0.2324 - accuracy: 0.9708\n",
      "Epoch 5/25\n",
      "600/600 [==============================] - 4s 7ms/step - loss: 0.1963 - accuracy: 0.9740\n",
      "Epoch 6/25\n",
      "600/600 [==============================] - 4s 7ms/step - loss: 0.1770 - accuracy: 0.9760\n",
      "Epoch 7/25\n",
      "600/600 [==============================] - 4s 6ms/step - loss: 0.1537 - accuracy: 0.9790\n",
      "Epoch 8/25\n",
      "600/600 [==============================] - 4s 6ms/step - loss: 0.1446 - accuracy: 0.9802\n",
      "Epoch 9/25\n",
      "600/600 [==============================] - 4s 6ms/step - loss: 0.1353 - accuracy: 0.9811\n",
      "Epoch 10/25\n",
      "600/600 [==============================] - 4s 6ms/step - loss: 0.1203 - accuracy: 0.9829\n",
      "Epoch 11/25\n",
      "600/600 [==============================] - 4s 6ms/step - loss: 0.0993 - accuracy: 0.9849\n",
      "Epoch 12/25\n",
      "600/600 [==============================] - 4s 7ms/step - loss: 0.0827 - accuracy: 0.9868\n",
      "Epoch 13/25\n",
      "600/600 [==============================] - 4s 7ms/step - loss: 0.1046 - accuracy: 0.9844\n",
      "Epoch 14/25\n",
      "600/600 [==============================] - 4s 7ms/step - loss: 0.0903 - accuracy: 0.9873\n",
      "Epoch 15/25\n",
      "600/600 [==============================] - 4s 6ms/step - loss: 0.0685 - accuracy: 0.9890\n",
      "Epoch 16/25\n",
      "600/600 [==============================] - 4s 6ms/step - loss: 0.0693 - accuracy: 0.9892\n",
      "Epoch 17/25\n",
      "600/600 [==============================] - 4s 6ms/step - loss: 0.0560 - accuracy: 0.9901\n",
      "Epoch 18/25\n",
      "600/600 [==============================] - 4s 6ms/step - loss: 0.0786 - accuracy: 0.9880\n",
      "Epoch 19/25\n",
      "600/600 [==============================] - 4s 6ms/step - loss: 0.0734 - accuracy: 0.9885\n",
      "Epoch 20/25\n",
      "600/600 [==============================] - 4s 6ms/step - loss: 0.0554 - accuracy: 0.9906\n",
      "Epoch 21/25\n",
      "600/600 [==============================] - 4s 7ms/step - loss: 0.0435 - accuracy: 0.9925\n",
      "Epoch 22/25\n",
      "600/600 [==============================] - 4s 6ms/step - loss: 0.0513 - accuracy: 0.9908\n",
      "Epoch 23/25\n",
      "600/600 [==============================] - 4s 7ms/step - loss: 0.0449 - accuracy: 0.9921\n",
      "Epoch 24/25\n",
      "600/600 [==============================] - 4s 7ms/step - loss: 0.0411 - accuracy: 0.9926\n",
      "Epoch 25/25\n",
      "600/600 [==============================] - 4s 6ms/step - loss: 0.0531 - accuracy: 0.9912\n"
     ]
    },
    {
     "data": {
      "text/plain": [
       "<keras.src.callbacks.History at 0x17c38069a90>"
      ]
     },
     "execution_count": 39,
     "metadata": {},
     "output_type": "execute_result"
    }
   ],
   "source": [
    " # Fitting ....\n",
    "model.fit(X_train_t,Y_train_t,epochs=25,batch_size=100)\n",
    "# model.fit(X_train_t,Y_train_t,epochs=20,batch_size=50,validation_data=(X_test_t,Y_test_t))\n"
   ]
  },
  {
   "cell_type": "code",
   "execution_count": 40,
   "id": "e88ebac1-6738-48a0-a88b-dc200485c1ee",
   "metadata": {
    "scrolled": true
   },
   "outputs": [
    {
     "name": "stdout",
     "output_type": "stream",
     "text": [
      "313/313 [==============================] - 1s 3ms/step - loss: 0.2951 - accuracy: 0.9758\n"
     ]
    }
   ],
   "source": [
    "## Prediction and Evaluation\n",
    "score_test = model.evaluate(X_test_t,Y_test_t) \n",
    "## the metric it is going to provide will be save as provided at time of compile "
   ]
  },
  {
   "cell_type": "code",
   "execution_count": 41,
   "id": "867f7683-4330-4700-8189-f878e4317dc4",
   "metadata": {},
   "outputs": [
    {
     "name": "stdout",
     "output_type": "stream",
     "text": [
      "1875/1875 [==============================] - 6s 3ms/step - loss: 0.0343 - accuracy: 0.9940\n"
     ]
    }
   ],
   "source": [
    "score_train = model.evaluate(X_train_t,Y_train_t) "
   ]
  },
  {
   "cell_type": "code",
   "execution_count": null,
   "id": "666047d8-63a9-4061-b2eb-d52bc61c66dd",
   "metadata": {},
   "outputs": [],
   "source": []
  }
 ],
 "metadata": {
  "kernelspec": {
   "display_name": "NeuralNetwork",
   "language": "python",
   "name": "neuralnetwork"
  },
  "language_info": {
   "codemirror_mode": {
    "name": "ipython",
    "version": 3
   },
   "file_extension": ".py",
   "mimetype": "text/x-python",
   "name": "python",
   "nbconvert_exporter": "python",
   "pygments_lexer": "ipython3",
   "version": "3.8.17"
  },
  "widgets": {
   "application/vnd.jupyter.widget-state+json": {
    "state": {},
    "version_major": 2,
    "version_minor": 0
   }
  }
 },
 "nbformat": 4,
 "nbformat_minor": 5
}
