{
 "cells": [
  {
   "cell_type": "code",
   "execution_count": 2,
   "id": "85bfc0e8-60b7-4d9c-a8d5-cff63ced9176",
   "metadata": {},
   "outputs": [],
   "source": [
    "# import os\n",
    "# os.environ['CUDA_VISIBLE_DEVICES'] = ''\n",
    "# os.environ['PYTHONHASHSEED'] = '0'\n",
    "# os.environ['TF_CUDNN_DETERMINISTIC']= '1'\n",
    "\n",
    "import numpy as np\n",
    "import tensorflow.compat.v1 as tf\n",
    "import random as python_random\n",
    "\n",
    "np.random.seed(123)\n",
    "python_random.seed(123)\n",
    "tf.set_random_seed(123)\n",
    "\n",
    "## TO GET CONSISTENT RESULT ON EVEREY RUN...."
   ]
  },
  {
   "cell_type": "code",
   "execution_count": 3,
   "id": "29ada54c-8d73-424d-9108-26bc20d9002f",
   "metadata": {},
   "outputs": [],
   "source": [
    "import keras\n",
    "from keras.models import Sequential\n",
    "from keras.layers import Dense## dense layer\n",
    "\n",
    "from sklearn.preprocessing import OneHotEncoder"
   ]
  },
  {
   "cell_type": "markdown",
   "id": "d0cb7908-2939-4bfa-9e4f-19cacaea5f69",
   "metadata": {},
   "source": [
    "## Model"
   ]
  },
  {
   "cell_type": "code",
   "execution_count": 4,
   "id": "49ec2123-705e-49ce-bb63-875a6070234b",
   "metadata": {},
   "outputs": [],
   "source": [
    "## Creating the model\n",
    "model = Sequential()"
   ]
  },
  {
   "cell_type": "code",
   "execution_count": 5,
   "id": "072e9184-9eca-4640-929f-b4f92a5278aa",
   "metadata": {},
   "outputs": [],
   "source": [
    "## Setting the Artitechure ( i.e adding layers to model )\n",
    "layer1 = Dense(units=256,activation='relu',input_dim=784)\n",
    "model.add(layer1)\n",
    "\n",
    "layer2 = Dense(units=256,activation='relu')\n",
    "model.add(layer2)\n",
    "\n",
    "layer3 = Dense(units=10,activation='linear')  \n",
    "# layer3 = Dense(units=10,activation='softmax') ## only where using keras.optimiser ..  \n",
    "model.add(layer3)\n",
    "\n",
    "# By default we are using bias for all of them ..Layer one without input_dim will give error.\n"
   ]
  },
  {
   "cell_type": "code",
   "execution_count": 6,
   "id": "e3861c4f-0df2-45c4-8f55-f35528c0c0e2",
   "metadata": {},
   "outputs": [],
   "source": [
    "## Method 1...................\n",
    "\n",
    "# Custom loss function using tf.nn.softmax_cross_entropy_with_logits\n",
    "def custom_loss(y_true, y_pred):\n",
    "    loss = tf.reduce_mean(tf.nn.softmax_cross_entropy_with_logits_v2(labels=y_true, logits=y_pred))\n",
    "    return loss\n",
    "    \n",
    "    \n",
    "model.compile(optimizer=keras.optimizers.Adam(learning_rate=0.002), loss = custom_loss, metrics=['accuracy']) \n",
    "\n",
    "##Method 2.......................\n",
    "\n",
    "# model.compile(optimizer=keras.optimizers.Adam(learning_rate=0.005), loss=keras.losses.categorical_crossentropy, metrics=['accuracy']) "
   ]
  },
  {
   "cell_type": "code",
   "execution_count": 7,
   "id": "cb5217b5-6eb7-4af8-988a-07200d54ef6c",
   "metadata": {},
   "outputs": [
    {
     "data": {
      "text/plain": [
       "((60000, 28, 28), (60000,), (10000, 28, 28), (10000,))"
      ]
     },
     "execution_count": 7,
     "metadata": {},
     "output_type": "execute_result"
    }
   ],
   "source": [
    "mnist= keras.datasets.mnist.load_data()\n",
    "(X_train,Y_train) , (X_test,Y_test) = mnist\n",
    "\n",
    "X_train.shape ,Y_train.shape , X_test.shape,Y_test.shape"
   ]
  },
  {
   "cell_type": "code",
   "execution_count": 8,
   "id": "5205f346-fc38-4ffb-8ec8-cd33a8ed4531",
   "metadata": {},
   "outputs": [
    {
     "data": {
      "text/plain": [
       "((60000, 10), (10000, 10))"
      ]
     },
     "execution_count": 8,
     "metadata": {},
     "output_type": "execute_result"
    }
   ],
   "source": [
    "\n",
    "encoder = OneHotEncoder(sparse_output=False)\n",
    "\n",
    "Y_train_t = encoder.fit_transform(Y_train.reshape(-1,1))\n",
    "Y_test_t = encoder.transform(Y_test.reshape(-1,1))\n",
    "\n",
    "Y_train_t.shape ,Y_test_t.shape"
   ]
  },
  {
   "cell_type": "code",
   "execution_count": 9,
   "id": "48e417b1-eab3-4472-a6a9-0b2029e948b3",
   "metadata": {},
   "outputs": [
    {
     "data": {
      "text/plain": [
       "((60000, 784), (10000, 784))"
      ]
     },
     "execution_count": 9,
     "metadata": {},
     "output_type": "execute_result"
    }
   ],
   "source": [
    "X_train_t = X_train.reshape(60000,784,)\n",
    "X_test_t = X_test.reshape(10000,784,)\n",
    "\n",
    "X_train_t.shape,X_test_t.shape"
   ]
  },
  {
   "cell_type": "code",
   "execution_count": 10,
   "id": "5f10663d-0cc9-49bf-a60a-d9675a1d8b90",
   "metadata": {
    "scrolled": true
   },
   "outputs": [
    {
     "name": "stdout",
     "output_type": "stream",
     "text": [
      "Epoch 1/5\n",
      "600/600 [==============================] - 6s 8ms/step - loss: 2.0788 - accuracy: 0.8901\n",
      "Epoch 2/5\n",
      "600/600 [==============================] - 4s 7ms/step - loss: 0.2725 - accuracy: 0.9436\n",
      "Epoch 3/5\n",
      "600/600 [==============================] - 5s 8ms/step - loss: 0.1661 - accuracy: 0.9582\n",
      "Epoch 4/5\n",
      "600/600 [==============================] - 5s 8ms/step - loss: 0.1285 - accuracy: 0.9655\n",
      "Epoch 5/5\n",
      "600/600 [==============================] - 4s 7ms/step - loss: 0.1160 - accuracy: 0.9672\n"
     ]
    },
    {
     "data": {
      "text/plain": [
       "<keras.src.callbacks.History at 0x15b671d70d0>"
      ]
     },
     "execution_count": 10,
     "metadata": {},
     "output_type": "execute_result"
    }
   ],
   "source": [
    " # Fitting ....\n",
    "model.fit(X_train_t,Y_train_t,epochs=5,batch_size=100)\n",
    "# model.fit(X_train_t,Y_train_t,epochs=20,batch_size=50,validation_data=(X_test_t,Y_test_t))\n"
   ]
  },
  {
   "cell_type": "code",
   "execution_count": 11,
   "id": "e88ebac1-6738-48a0-a88b-dc200485c1ee",
   "metadata": {
    "scrolled": true
   },
   "outputs": [
    {
     "name": "stdout",
     "output_type": "stream",
     "text": [
      "313/313 [==============================] - 1s 3ms/step - loss: 0.1950 - accuracy: 0.9572\n"
     ]
    }
   ],
   "source": [
    "## Prediction and Evaluation\n",
    "score_test = model.evaluate(X_test_t,Y_test_t) \n",
    "## the metric it is going to provide will be save as provided at time of compile "
   ]
  },
  {
   "cell_type": "code",
   "execution_count": 12,
   "id": "867f7683-4330-4700-8189-f878e4317dc4",
   "metadata": {},
   "outputs": [
    {
     "name": "stdout",
     "output_type": "stream",
     "text": [
      "1875/1875 [==============================] - 6s 3ms/step - loss: 0.1165 - accuracy: 0.9687\n"
     ]
    }
   ],
   "source": [
    "score_train = model.evaluate(X_train_t,Y_train_t) "
   ]
  },
  {
   "cell_type": "raw",
   "id": "7effcd71-ef5a-4cb1-8f33-c37dbe249e2d",
   "metadata": {},
   "source": [
    "## OutPut You Should Get .....\n",
    "\n",
    "Epoch 1/5\n",
    "600/600 [==============================] - 6s 8ms/step - loss: 2.0788 - accuracy: 0.8901\n",
    "Epoch 2/5\n",
    "600/600 [==============================] - 5s 8ms/step - loss: 0.2725 - accuracy: 0.9436\n",
    "Epoch 3/5\n",
    "600/600 [==============================] - 5s 8ms/step - loss: 0.1661 - accuracy: 0.9582\n",
    "Epoch 4/5\n",
    "600/600 [==============================] - 5s 8ms/step - loss: 0.1285 - accuracy: 0.9655\n",
    "Epoch 5/5\n",
    "600/600 [==============================] - 5s 8ms/step - loss: 0.1160 - accuracy: 0.9672\n",
    "\n",
    "313/313 [==============================] - 1s 4ms/step - loss: 0.1950 - accuracy: 0.9572\n",
    "1875/1875 [==============================] - 7s 4ms/step - loss: 0.1165 - accuracy: 0.9687\n"
   ]
  },
  {
   "cell_type": "markdown",
   "id": "6fe681bc-6b0d-479b-bf60-02b55d27da7b",
   "metadata": {},
   "source": [
    "## Note : Summarry .."
   ]
  },
  {
   "cell_type": "raw",
   "id": "773469bd-7873-4926-a8df-a3287ab56398",
   "metadata": {},
   "source": [
    "\n",
    "Methdo 1.......\n",
    "learning rate = 0.0005\n",
    "apply activation = 'softmax' on Output Layer \n",
    "optimizer = 'classification_crossentropy' or keras.optimizer.classification_crossentropy\n",
    "\n",
    "\n",
    "Methdo 2.......\n",
    "learning rate = 0.0005\n",
    "apply activation = 'linear' on Output Layer \n",
    "optimizer = custom_function\n",
    "\n",
    "custom_function is similar to what what did in finding cost in tensorflow case..\n",
    "def custom_loss(y_true, y_pred):\n",
    "    loss = tf.reduce_mean(tf.nn.softmax_cross_entropy_with_logits_v2(labels=y_true, logits=y_pred))\n",
    "    return loss\n",
    "\n",
    "\n",
    "Rest Should remain same."
   ]
  },
  {
   "cell_type": "raw",
   "id": "f20bd5ee-17f1-4830-a11a-72eecde568a8",
   "metadata": {},
   "source": [
    "## keeping activation as 'linear' on output layer Was creating Error ...\n",
    "## Use 'softmax' for case involving multiple classifcation\n",
    "## Use 'sigmoid' for case involving binary classifcation\n",
    "## Use 'linear' for case involving regression problem\n",
    "## Can also seerch in keras.activation for other function as well "
   ]
  }
 ],
 "metadata": {
  "kernelspec": {
   "display_name": "NeuralNetwork",
   "language": "python",
   "name": "neuralnetwork"
  },
  "language_info": {
   "codemirror_mode": {
    "name": "ipython",
    "version": 3
   },
   "file_extension": ".py",
   "mimetype": "text/x-python",
   "name": "python",
   "nbconvert_exporter": "python",
   "pygments_lexer": "ipython3",
   "version": "3.8.17"
  },
  "widgets": {
   "application/vnd.jupyter.widget-state+json": {
    "state": {},
    "version_major": 2,
    "version_minor": 0
   }
  }
 },
 "nbformat": 4,
 "nbformat_minor": 5
}
